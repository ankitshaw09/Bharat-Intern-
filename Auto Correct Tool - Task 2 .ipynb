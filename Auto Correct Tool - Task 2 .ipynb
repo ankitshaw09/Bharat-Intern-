{
 "cells": [
  {
   "cell_type": "code",
   "execution_count": 20,
   "id": "9c91e47d",
   "metadata": {},
   "outputs": [
    {
     "name": "stdout",
     "output_type": "stream",
     "text": [
      "Defaulting to user installation because normal site-packages is not writeable\n",
      "Requirement already satisfied: textblob in c:\\users\\ankit\\appdata\\roaming\\python\\python310\\site-packages (0.17.1)\n",
      "Requirement already satisfied: nltk>=3.1 in c:\\programdata\\anaconda3\\lib\\site-packages (from textblob) (3.7)\n",
      "Requirement already satisfied: tqdm in c:\\programdata\\anaconda3\\lib\\site-packages (from nltk>=3.1->textblob) (4.64.1)\n",
      "Requirement already satisfied: joblib in c:\\programdata\\anaconda3\\lib\\site-packages (from nltk>=3.1->textblob) (1.1.1)\n",
      "Requirement already satisfied: regex>=2021.8.3 in c:\\programdata\\anaconda3\\lib\\site-packages (from nltk>=3.1->textblob) (2022.7.9)\n",
      "Requirement already satisfied: click in c:\\programdata\\anaconda3\\lib\\site-packages (from nltk>=3.1->textblob) (8.0.4)\n",
      "Requirement already satisfied: colorama in c:\\programdata\\anaconda3\\lib\\site-packages (from click->nltk>=3.1->textblob) (0.4.6)\n"
     ]
    }
   ],
   "source": [
    "# Install the textblob library\n",
    "!pip install textblob"
   ]
  },
  {
   "cell_type": "code",
   "execution_count": 21,
   "id": "b2ec15e5",
   "metadata": {},
   "outputs": [],
   "source": [
    "# Import the Word class from the textblob library\n",
    "from textblob import Word\n",
    "\n",
    "# Define a function to correct spelling and return suggestions\n",
    "def correct_word(word):\n",
    "    # Create a Word object with the input word\n",
    "    w = Word(word)\n",
    "    # Use the correct() method to obtain the corrected version of the word\n",
    "    corrected_word = w.correct()\n",
    "    # Retrieve a list of spelling suggestions using the spellcheck() method\n",
    "    suggestions = w.spellcheck()\n",
    "    # Return the corrected word as a string and the list of suggestions\n",
    "    return str(corrected_word), suggestions\n"
   ]
  },
  {
   "cell_type": "code",
   "execution_count": 22,
   "id": "cd7647fa",
   "metadata": {},
   "outputs": [
    {
     "name": "stdout",
     "output_type": "stream",
     "text": [
      "Enter a misspelled word (or 'exit' to quit): aleady\n",
      "The corrected word for 'aleady' is 'already'.\n",
      "Other suggestions:\n",
      "- already (1.0)\n",
      "Enter a misspelled word (or 'exit' to quit): wrd\n",
      "The corrected word for 'wrd' is 'word'.\n",
      "Other suggestions:\n",
      "- word (0.8948948948948949)\n",
      "- ward (0.03903903903903904)\n",
      "- rd (0.03003003003003003)\n",
      "- wry (0.015015015015015015)\n",
      "- ord (0.009009009009009009)\n",
      "- wad (0.006006006006006006)\n",
      "- wid (0.003003003003003003)\n",
      "- wed (0.003003003003003003)\n",
      "Enter a misspelled word (or 'exit' to quit): exid\n",
      "The corrected word for 'exid' is 'exit'.\n",
      "Other suggestions:\n",
      "- exit (1.0)\n",
      "Enter a misspelled word (or 'exit' to quit): exit\n"
     ]
    }
   ],
   "source": [
    "while True:\n",
    "    # Take user input for the misspelled word\n",
    "    misspelled_word = input(\"Enter a misspelled word (or 'exit' to quit): \")\n",
    "    \n",
    "    if misspelled_word.lower() == 'exit':\n",
    "        break\n",
    "    \n",
    "    # Call the correct_word function to obtain the corrected word and suggestions\n",
    "    corrected_word, suggestions = correct_word(misspelled_word)\n",
    "    \n",
    "    # Print the original misspelled word and the corrected word\n",
    "    print(f\"The corrected word for '{misspelled_word}' is '{corrected_word}'.\")\n",
    "    # Print the list of suggestions with their confidence scores\n",
    "    print(\"Other suggestions:\")\n",
    "    for suggestion in suggestions:\n",
    "        print(f\"- {suggestion[0]} ({suggestion[1]})\")\n"
   ]
  },
  {
   "cell_type": "code",
   "execution_count": null,
   "id": "f5827781",
   "metadata": {},
   "outputs": [],
   "source": []
  }
 ],
 "metadata": {
  "kernelspec": {
   "display_name": "Python 3 (ipykernel)",
   "language": "python",
   "name": "python3"
  },
  "language_info": {
   "codemirror_mode": {
    "name": "ipython",
    "version": 3
   },
   "file_extension": ".py",
   "mimetype": "text/x-python",
   "name": "python",
   "nbconvert_exporter": "python",
   "pygments_lexer": "ipython3",
   "version": "3.10.9"
  }
 },
 "nbformat": 4,
 "nbformat_minor": 5
}
